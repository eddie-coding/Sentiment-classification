{
  "nbformat": 4,
  "nbformat_minor": 0,
  "metadata": {
    "accelerator": "GPU",
    "colab": {
      "name": "Sentiment-classification.ipynb",
      "provenance": [],
      "collapsed_sections": [],
      "include_colab_link": true
    },
    "kernelspec": {
      "display_name": "Python 3",
      "name": "python3"
    }
  },
  "cells": [
    {
      "cell_type": "markdown",
      "metadata": {
        "id": "view-in-github",
        "colab_type": "text"
      },
      "source": [
        "<a href=\"https://colab.research.google.com/github/eddie-coding/Sentiment-classification/blob/master/Sentiment_classification.ipynb\" target=\"_parent\"><img src=\"https://colab.research.google.com/assets/colab-badge.svg\" alt=\"Open In Colab\"/></a>"
      ]
    },
    {
      "cell_type": "code",
      "metadata": {
        "id": "zX4Kg8DUTKWO",
        "colab_type": "code",
        "colab": {}
      },
      "source": [
        "#@title Licensed under the Apache License, Version 2.0 (the \"License\");\n",
        "# you may not use this file except in compliance with the License.\n",
        "# You may obtain a copy of the License at\n",
        "#\n",
        "# https://www.apache.org/licenses/LICENSE-2.0\n",
        "#\n",
        "# Unless required by applicable law or agreed to in writing, software\n",
        "# distributed under the License is distributed on an \"AS IS\" BASIS,\n",
        "# WITHOUT WARRANTIES OR CONDITIONS OF ANY KIND, either express or implied.\n",
        "# See the License for the specific language governing permissions and\n",
        "# limitations under the License."
      ],
      "execution_count": 0,
      "outputs": []
    },
    {
      "cell_type": "code",
      "metadata": {
        "colab_type": "code",
        "id": "hmA6EzkQJ5jt",
        "colab": {}
      },
      "source": [
        "import json\n",
        "import tensorflow as tf\n",
        "import csv\n",
        "import random\n",
        "import numpy as np\n",
        "\n",
        "from tensorflow.keras.preprocessing.text import Tokenizer\n",
        "from tensorflow.keras.preprocessing.sequence import pad_sequences\n",
        "from tensorflow.keras.utils import to_categorical\n",
        "from tensorflow.keras import regularizers\n",
        "\n",
        "\n",
        "embedding_dim = 100\n",
        "max_length = 16\n",
        "trunc_type='post'\n",
        "padding_type='post'\n",
        "oov_tok = \"<OOV>\"\n",
        "training_size=160000\n",
        "test_portion=.1\n",
        "\n",
        "corpus = []\n"
      ],
      "execution_count": 0,
      "outputs": []
    },
    {
      "cell_type": "code",
      "metadata": {
        "colab_type": "code",
        "id": "bM0l_dORKqE0",
        "outputId": "97168f14-e71e-410e-b314-b9da102453e4",
        "colab": {
          "base_uri": "https://localhost:8080/",
          "height": 204
        }
      },
      "source": [
        "# Note that I cleaned the Stanford dataset to remove LATIN1 encoding to make it easier for Python CSV reader\n",
        "# You can do that yourself with:\n",
        "# iconv -f LATIN1 -t UTF8 training.1600000.processed.noemoticon.csv -o training_cleaned.csv\n",
        "# I then hosted it on my site to make it easier to use in this notebook\n",
        "\n",
        "!wget --no-check-certificate \\\n",
        "    https://storage.googleapis.com/laurencemoroney-blog.appspot.com/training_cleaned.csv \\\n",
        "    -O /tmp/training_cleaned.csv\n",
        "\n",
        "num_sentences = 0\n",
        "\n",
        "with open(\"/tmp/training_cleaned.csv\") as csvfile:\n",
        "    reader = csv.reader(csvfile, delimiter=',')\n",
        "    for row in reader:\n",
        "        list_item=[]\n",
        "        list_item.append(row[5])\n",
        "        this_label=row[0]\n",
        "        if this_label=='0':\n",
        "            list_item.append(0)\n",
        "        else:\n",
        "            list_item.append(1)\n",
        "        num_sentences = num_sentences + 1\n",
        "        corpus.append(list_item)"
      ],
      "execution_count": 0,
      "outputs": [
        {
          "output_type": "stream",
          "text": [
            "--2020-04-07 11:33:09--  https://storage.googleapis.com/laurencemoroney-blog.appspot.com/training_cleaned.csv\n",
            "Resolving storage.googleapis.com (storage.googleapis.com)... 108.177.97.128, 2404:6800:4008:c07::80\n",
            "Connecting to storage.googleapis.com (storage.googleapis.com)|108.177.97.128|:443... connected.\n",
            "HTTP request sent, awaiting response... 200 OK\n",
            "Length: 238942690 (228M) [application/octet-stream]\n",
            "Saving to: ‘/tmp/training_cleaned.csv’\n",
            "\n",
            "/tmp/training_clean 100%[===================>] 227.87M   103MB/s    in 2.2s    \n",
            "\n",
            "2020-04-07 11:33:12 (103 MB/s) - ‘/tmp/training_cleaned.csv’ saved [238942690/238942690]\n",
            "\n"
          ],
          "name": "stdout"
        }
      ]
    },
    {
      "cell_type": "code",
      "metadata": {
        "colab_type": "code",
        "id": "3kxblBUjEUX-",
        "outputId": "4d339774-f043-4bf4-c15d-7b2ac2c2d78d",
        "colab": {
          "base_uri": "https://localhost:8080/",
          "height": 88
        }
      },
      "source": [
        "print(num_sentences)\n",
        "print(len(corpus))\n",
        "print(corpus[1])\n",
        "\n",
        "# Expected Output:\n",
        "# 1600000\n",
        "# 1600000\n",
        "# [\"is upset that he can't update his Facebook by texting it... and might cry as a result  School today also. Blah!\", 0]"
      ],
      "execution_count": 0,
      "outputs": [
        {
          "output_type": "stream",
          "text": [
            "1600000\n",
            "1600000\n",
            "[\"is upset that he can't update his Facebook by texting it... and might cry as a result  School today also. Blah!\", 0]\n"
          ],
          "name": "stdout"
        }
      ]
    },
    {
      "cell_type": "code",
      "metadata": {
        "colab_type": "code",
        "id": "ohOGz24lsNAD",
        "outputId": "9e9d2b13-ec01-4cd3-c4cc-d8df8891dcce",
        "colab": {
          "base_uri": "https://localhost:8080/",
          "height": 68
        }
      },
      "source": [
        "sentences=[]\n",
        "labels=[]\n",
        "random.shuffle(corpus)\n",
        "for x in range(training_size):\n",
        "    sentences.append(corpus[x][0])\n",
        "    labels.append(corpus[x][1])\n",
        "\n",
        "\n",
        "tokenizer = Tokenizer()\n",
        "tokenizer.fit_on_texts(sentences)\n",
        "\n",
        "word_index = tokenizer.word_index\n",
        "vocab_size=len(word_index)\n",
        "\n",
        "sequences = tokenizer.texts_to_sequences(sentences)\n",
        "padded = pad_sequences(sequences, maxlen=max_length, padding=padding_type, truncating=trunc_type)\n",
        "\n",
        "split = int(test_portion * training_size)\n",
        "\n",
        "test_sequences = padded[0:split]\n",
        "training_sequences = padded[split:training_size]\n",
        "test_labels = labels[0:split]\n",
        "training_labels = labels[split:training_size]\n",
        "print(training_sequences.shape)\n",
        "training_labels=np.array(training_labels)\n",
        "test_labels=np.array(test_labels)\n",
        "print(training_labels.shape)\n",
        "print(test_labels.shape)"
      ],
      "execution_count": 0,
      "outputs": [
        {
          "output_type": "stream",
          "text": [
            "(144000, 16)\n",
            "(144000,)\n",
            "(16000,)\n"
          ],
          "name": "stdout"
        }
      ]
    },
    {
      "cell_type": "code",
      "metadata": {
        "colab_type": "code",
        "id": "gIrtRem1En3N",
        "outputId": "7c46ce70-a880-4a9a-9d7d-d53914692929",
        "colab": {
          "base_uri": "https://localhost:8080/",
          "height": 51
        }
      },
      "source": [
        "print(vocab_size)\n",
        "print(word_index['i'])\n",
        "# Expected Output\n",
        "# 138858\n",
        "# 1"
      ],
      "execution_count": 0,
      "outputs": [
        {
          "output_type": "stream",
          "text": [
            "137980\n",
            "1\n"
          ],
          "name": "stdout"
        }
      ]
    },
    {
      "cell_type": "code",
      "metadata": {
        "colab_type": "code",
        "id": "C1zdgJkusRh0",
        "outputId": "20df3c39-885c-4772-8fcd-ba3a75ba6f57",
        "colab": {
          "base_uri": "https://localhost:8080/",
          "height": 204
        }
      },
      "source": [
        "# Note this is the 100 dimension version of GloVe from Stanford\n",
        "# I unzipped and hosted it on my site to make this notebook easier\n",
        "!wget --no-check-certificate \\\n",
        "    https://storage.googleapis.com/laurencemoroney-blog.appspot.com/glove.6B.100d.txt \\\n",
        "    -O /tmp/glove.6B.100d.txt\n",
        "embeddings_index = {};\n",
        "with open('/tmp/glove.6B.100d.txt') as f:\n",
        "    for line in f:\n",
        "        values = line.split();\n",
        "        word = values[0];\n",
        "        coefs = np.asarray(values[1:], dtype='float32');\n",
        "        embeddings_index[word] = coefs;\n",
        "\n",
        "embeddings_matrix = np.zeros((vocab_size+1, embedding_dim));\n",
        "for word, i in word_index.items():\n",
        "    embedding_vector = embeddings_index.get(word);\n",
        "    if embedding_vector is not None:\n",
        "        embeddings_matrix[i] = embedding_vector;"
      ],
      "execution_count": 0,
      "outputs": [
        {
          "output_type": "stream",
          "text": [
            "--2020-04-07 11:55:28--  https://storage.googleapis.com/laurencemoroney-blog.appspot.com/glove.6B.100d.txt\n",
            "Resolving storage.googleapis.com (storage.googleapis.com)... 64.233.189.128, 2404:6800:4008:c04::80\n",
            "Connecting to storage.googleapis.com (storage.googleapis.com)|64.233.189.128|:443... connected.\n",
            "HTTP request sent, awaiting response... 200 OK\n",
            "Length: 347116733 (331M) [text/plain]\n",
            "Saving to: ‘/tmp/glove.6B.100d.txt’\n",
            "\n",
            "/tmp/glove.6B.100d. 100%[===================>] 331.04M   138MB/s    in 2.4s    \n",
            "\n",
            "2020-04-07 11:55:30 (138 MB/s) - ‘/tmp/glove.6B.100d.txt’ saved [347116733/347116733]\n",
            "\n"
          ],
          "name": "stdout"
        }
      ]
    },
    {
      "cell_type": "code",
      "metadata": {
        "colab_type": "code",
        "id": "71NLk_lpFLNt",
        "outputId": "99d00a8f-b4ba-4af7-8690-5bc3de291b0c",
        "colab": {
          "base_uri": "https://localhost:8080/",
          "height": 34
        }
      },
      "source": [
        "print(len(embeddings_matrix))\n",
        "# Expected Output\n",
        "# 138859"
      ],
      "execution_count": 0,
      "outputs": [
        {
          "output_type": "stream",
          "text": [
            "138050\n"
          ],
          "name": "stdout"
        }
      ]
    },
    {
      "cell_type": "code",
      "metadata": {
        "colab_type": "code",
        "id": "iKKvbuEBOGFz",
        "outputId": "af8fe58d-8135-466c-e4a0-a68e48dc85e4",
        "colab": {
          "base_uri": "https://localhost:8080/",
          "height": 1000
        }
      },
      "source": [
        "\n",
        "model = tf.keras.Sequential([\n",
        "    tf.keras.layers.Embedding(vocab_size+1, embedding_dim, input_length=max_length, weights=[embeddings_matrix], trainable=False),\n",
        "    tf.keras.layers.Dropout(0.2),\n",
        "    tf.keras.layers.Conv1D(64, 5, activation='relu'),\n",
        "    tf.keras.layers.MaxPooling1D(pool_size=4),\n",
        "    tf.keras.layers.LSTM(64),\n",
        "    tf.keras.layers.Dense(1, activation='sigmoid')\n",
        "])\n",
        "model.compile(loss='binary_crossentropy',optimizer='adam',metrics=['accuracy'])\n",
        "model.summary()\n",
        "\n",
        "num_epochs = 50\n",
        "history = model.fit(training_sequences, training_labels, epochs=num_epochs, validation_data=(test_sequences, test_labels), verbose=2)\n",
        "print(\"Training Complete\")\n"
      ],
      "execution_count": 0,
      "outputs": [
        {
          "output_type": "stream",
          "text": [
            "Model: \"sequential_4\"\n",
            "_________________________________________________________________\n",
            "Layer (type)                 Output Shape              Param #   \n",
            "=================================================================\n",
            "embedding_4 (Embedding)      (None, 16, 100)           13805000  \n",
            "_________________________________________________________________\n",
            "dropout_4 (Dropout)          (None, 16, 100)           0         \n",
            "_________________________________________________________________\n",
            "conv1d_4 (Conv1D)            (None, 12, 64)            32064     \n",
            "_________________________________________________________________\n",
            "max_pooling1d_4 (MaxPooling1 (None, 3, 64)             0         \n",
            "_________________________________________________________________\n",
            "lstm_4 (LSTM)                (None, 64)                33024     \n",
            "_________________________________________________________________\n",
            "dense_4 (Dense)              (None, 1)                 65        \n",
            "=================================================================\n",
            "Total params: 13,870,153\n",
            "Trainable params: 65,153\n",
            "Non-trainable params: 13,805,000\n",
            "_________________________________________________________________\n",
            "Epoch 1/50\n",
            "4500/4500 - 21s - loss: 0.5697 - accuracy: 0.6969 - val_loss: 0.5265 - val_accuracy: 0.7324\n",
            "Epoch 2/50\n",
            "4500/4500 - 20s - loss: 0.5293 - accuracy: 0.7301 - val_loss: 0.5122 - val_accuracy: 0.7431\n",
            "Epoch 3/50\n",
            "4500/4500 - 20s - loss: 0.5139 - accuracy: 0.7424 - val_loss: 0.5046 - val_accuracy: 0.7479\n",
            "Epoch 4/50\n",
            "4500/4500 - 20s - loss: 0.5023 - accuracy: 0.7499 - val_loss: 0.5053 - val_accuracy: 0.7493\n",
            "Epoch 5/50\n",
            "4500/4500 - 20s - loss: 0.4943 - accuracy: 0.7563 - val_loss: 0.5022 - val_accuracy: 0.7524\n",
            "Epoch 6/50\n",
            "4500/4500 - 20s - loss: 0.4869 - accuracy: 0.7594 - val_loss: 0.5057 - val_accuracy: 0.7484\n",
            "Epoch 7/50\n",
            "4500/4500 - 20s - loss: 0.4817 - accuracy: 0.7636 - val_loss: 0.5006 - val_accuracy: 0.7539\n",
            "Epoch 8/50\n",
            "4500/4500 - 20s - loss: 0.4766 - accuracy: 0.7670 - val_loss: 0.5017 - val_accuracy: 0.7528\n",
            "Epoch 9/50\n",
            "4500/4500 - 20s - loss: 0.4727 - accuracy: 0.7693 - val_loss: 0.5075 - val_accuracy: 0.7488\n",
            "Epoch 10/50\n",
            "4500/4500 - 20s - loss: 0.4678 - accuracy: 0.7723 - val_loss: 0.5000 - val_accuracy: 0.7554\n",
            "Epoch 11/50\n",
            "4500/4500 - 20s - loss: 0.4651 - accuracy: 0.7744 - val_loss: 0.5033 - val_accuracy: 0.7520\n",
            "Epoch 12/50\n",
            "4500/4500 - 21s - loss: 0.4636 - accuracy: 0.7747 - val_loss: 0.5029 - val_accuracy: 0.7504\n",
            "Epoch 13/50\n",
            "4500/4500 - 20s - loss: 0.4581 - accuracy: 0.7789 - val_loss: 0.5061 - val_accuracy: 0.7539\n",
            "Epoch 14/50\n",
            "4500/4500 - 20s - loss: 0.4561 - accuracy: 0.7791 - val_loss: 0.5060 - val_accuracy: 0.7522\n",
            "Epoch 15/50\n",
            "4500/4500 - 21s - loss: 0.4543 - accuracy: 0.7819 - val_loss: 0.5044 - val_accuracy: 0.7538\n",
            "Epoch 16/50\n",
            "4500/4500 - 20s - loss: 0.4520 - accuracy: 0.7815 - val_loss: 0.5049 - val_accuracy: 0.7516\n",
            "Epoch 17/50\n",
            "4500/4500 - 20s - loss: 0.4506 - accuracy: 0.7823 - val_loss: 0.5149 - val_accuracy: 0.7513\n",
            "Epoch 18/50\n",
            "4500/4500 - 20s - loss: 0.4492 - accuracy: 0.7841 - val_loss: 0.5087 - val_accuracy: 0.7497\n",
            "Epoch 19/50\n",
            "4500/4500 - 20s - loss: 0.4481 - accuracy: 0.7852 - val_loss: 0.5110 - val_accuracy: 0.7478\n",
            "Epoch 20/50\n",
            "4500/4500 - 20s - loss: 0.4464 - accuracy: 0.7854 - val_loss: 0.5157 - val_accuracy: 0.7483\n",
            "Epoch 21/50\n",
            "4500/4500 - 20s - loss: 0.4458 - accuracy: 0.7858 - val_loss: 0.5119 - val_accuracy: 0.7490\n",
            "Epoch 22/50\n",
            "4500/4500 - 20s - loss: 0.4426 - accuracy: 0.7884 - val_loss: 0.5103 - val_accuracy: 0.7484\n",
            "Epoch 23/50\n",
            "4500/4500 - 20s - loss: 0.4429 - accuracy: 0.7882 - val_loss: 0.5118 - val_accuracy: 0.7475\n",
            "Epoch 24/50\n",
            "4500/4500 - 20s - loss: 0.4422 - accuracy: 0.7883 - val_loss: 0.5143 - val_accuracy: 0.7443\n",
            "Epoch 25/50\n",
            "4500/4500 - 20s - loss: 0.4415 - accuracy: 0.7891 - val_loss: 0.5169 - val_accuracy: 0.7483\n",
            "Epoch 26/50\n",
            "4500/4500 - 20s - loss: 0.4387 - accuracy: 0.7901 - val_loss: 0.5132 - val_accuracy: 0.7521\n",
            "Epoch 27/50\n",
            "4500/4500 - 20s - loss: 0.4386 - accuracy: 0.7900 - val_loss: 0.5133 - val_accuracy: 0.7485\n",
            "Epoch 28/50\n",
            "4500/4500 - 21s - loss: 0.4382 - accuracy: 0.7911 - val_loss: 0.5192 - val_accuracy: 0.7513\n",
            "Epoch 29/50\n",
            "4500/4500 - 20s - loss: 0.4381 - accuracy: 0.7902 - val_loss: 0.5150 - val_accuracy: 0.7504\n",
            "Epoch 30/50\n",
            "4500/4500 - 20s - loss: 0.4373 - accuracy: 0.7912 - val_loss: 0.5162 - val_accuracy: 0.7521\n",
            "Epoch 31/50\n",
            "4500/4500 - 20s - loss: 0.4365 - accuracy: 0.7907 - val_loss: 0.5119 - val_accuracy: 0.7509\n",
            "Epoch 32/50\n",
            "4500/4500 - 20s - loss: 0.4349 - accuracy: 0.7923 - val_loss: 0.5170 - val_accuracy: 0.7501\n",
            "Epoch 33/50\n",
            "4500/4500 - 20s - loss: 0.4358 - accuracy: 0.7924 - val_loss: 0.5208 - val_accuracy: 0.7515\n",
            "Epoch 34/50\n",
            "4500/4500 - 20s - loss: 0.4352 - accuracy: 0.7929 - val_loss: 0.5160 - val_accuracy: 0.7509\n",
            "Epoch 35/50\n",
            "4500/4500 - 20s - loss: 0.4332 - accuracy: 0.7931 - val_loss: 0.5167 - val_accuracy: 0.7509\n",
            "Epoch 36/50\n",
            "4500/4500 - 20s - loss: 0.4338 - accuracy: 0.7929 - val_loss: 0.5149 - val_accuracy: 0.7519\n",
            "Epoch 37/50\n",
            "4500/4500 - 20s - loss: 0.4346 - accuracy: 0.7929 - val_loss: 0.5196 - val_accuracy: 0.7516\n",
            "Epoch 38/50\n",
            "4500/4500 - 20s - loss: 0.4342 - accuracy: 0.7933 - val_loss: 0.5120 - val_accuracy: 0.7484\n",
            "Epoch 39/50\n",
            "4500/4500 - 20s - loss: 0.4320 - accuracy: 0.7946 - val_loss: 0.5154 - val_accuracy: 0.7479\n",
            "Epoch 40/50\n",
            "4500/4500 - 20s - loss: 0.4328 - accuracy: 0.7935 - val_loss: 0.5212 - val_accuracy: 0.7496\n",
            "Epoch 41/50\n",
            "4500/4500 - 20s - loss: 0.4319 - accuracy: 0.7948 - val_loss: 0.5248 - val_accuracy: 0.7487\n",
            "Epoch 42/50\n",
            "4500/4500 - 20s - loss: 0.4318 - accuracy: 0.7953 - val_loss: 0.5180 - val_accuracy: 0.7509\n",
            "Epoch 43/50\n",
            "4500/4500 - 21s - loss: 0.4314 - accuracy: 0.7948 - val_loss: 0.5202 - val_accuracy: 0.7458\n",
            "Epoch 44/50\n",
            "4500/4500 - 20s - loss: 0.4312 - accuracy: 0.7945 - val_loss: 0.5169 - val_accuracy: 0.7485\n",
            "Epoch 45/50\n",
            "4500/4500 - 20s - loss: 0.4312 - accuracy: 0.7946 - val_loss: 0.5193 - val_accuracy: 0.7527\n",
            "Epoch 46/50\n",
            "4500/4500 - 20s - loss: 0.4305 - accuracy: 0.7944 - val_loss: 0.5137 - val_accuracy: 0.7499\n",
            "Epoch 47/50\n",
            "4500/4500 - 20s - loss: 0.4310 - accuracy: 0.7951 - val_loss: 0.5187 - val_accuracy: 0.7504\n",
            "Epoch 48/50\n",
            "4500/4500 - 20s - loss: 0.4300 - accuracy: 0.7952 - val_loss: 0.5190 - val_accuracy: 0.7479\n",
            "Epoch 49/50\n",
            "4500/4500 - 20s - loss: 0.4308 - accuracy: 0.7945 - val_loss: 0.5178 - val_accuracy: 0.7467\n",
            "Epoch 50/50\n",
            "4500/4500 - 20s - loss: 0.4306 - accuracy: 0.7954 - val_loss: 0.5220 - val_accuracy: 0.7443\n",
            "Training Complete\n"
          ],
          "name": "stdout"
        }
      ]
    },
    {
      "cell_type": "code",
      "metadata": {
        "colab_type": "code",
        "id": "qxju4ItJKO8F",
        "outputId": "3d37f664-d916-41a2-f359-fa366568f7e8",
        "colab": {
          "base_uri": "https://localhost:8080/",
          "height": 607
        }
      },
      "source": [
        "import matplotlib.image  as mpimg\n",
        "import matplotlib.pyplot as plt\n",
        "\n",
        "#-----------------------------------------------------------\n",
        "# Retrieve a list of list results on training and test data\n",
        "# sets for each training epoch\n",
        "#-----------------------------------------------------------\n",
        "acc=history.history['accuracy']\n",
        "val_acc=history.history['val_accuracy']\n",
        "loss=history.history['loss']\n",
        "val_loss=history.history['val_loss']\n",
        "\n",
        "epochs=range(len(acc)) # Get number of epochs\n",
        "\n",
        "#------------------------------------------------\n",
        "# Plot training and validation accuracy per epoch\n",
        "#------------------------------------------------\n",
        "plt.plot(epochs, acc, 'r')\n",
        "plt.plot(epochs, val_acc, 'b')\n",
        "plt.title('Training and validation accuracy')\n",
        "plt.xlabel(\"Epochs\")\n",
        "plt.ylabel(\"Accuracy\")\n",
        "plt.legend([\"Accuracy\", \"Validation Accuracy\"])\n",
        "\n",
        "plt.figure()\n",
        "\n",
        "#------------------------------------------------\n",
        "# Plot training and validation loss per epoch\n",
        "#------------------------------------------------\n",
        "plt.plot(epochs, loss, 'r')\n",
        "plt.plot(epochs, val_loss, 'b')\n",
        "plt.title('Training and validation loss')\n",
        "plt.xlabel(\"Epochs\")\n",
        "plt.ylabel(\"Loss\")\n",
        "plt.legend([\"Loss\", \"Validation Loss\"])\n",
        "\n",
        "plt.figure()\n",
        "\n",
        "\n",
        "# Expected Output\n",
        "# A chart where the validation loss does not increase sharply!"
      ],
      "execution_count": 0,
      "outputs": [
        {
          "output_type": "execute_result",
          "data": {
            "text/plain": [
              "<Figure size 432x288 with 0 Axes>"
            ]
          },
          "metadata": {
            "tags": []
          },
          "execution_count": 24
        },
        {
          "output_type": "display_data",
          "data": {
            "image/png": "[encoded data removed]",
            "text/plain": [
              "<Figure size 432x288 with 1 Axes>"
            ]
          },
          "metadata": {
            "tags": []
          }
        },
        {
          "output_type": "display_data",
          "data": {
            "image/png": "[encoded data removed]",
            "text/plain": [
              "<Figure size 432x288 with 1 Axes>"
            ]
          },
          "metadata": {
            "tags": []
          }
        },
        {
          "output_type": "display_data",
          "data": {
            "text/plain": [
              "<Figure size 432x288 with 0 Axes>"
            ]
          },
          "metadata": {
            "tags": []
          }
        }
      ]
    }
  ]
}